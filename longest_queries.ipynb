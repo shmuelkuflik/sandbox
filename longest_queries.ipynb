{
 "cells": [
  {
   "cell_type": "markdown",
   "id": "4f4631c9-2d93-4a6a-b29a-bd6cb9753217",
   "metadata": {},
   "source": [
    "This notebook was created to explore long qureies on production, using a replica called ITST_Test_1"
   ]
  },
  {
   "cell_type": "markdown",
   "id": "9c0b14d3-5295-4ef6-9c66-20299aec1fd2",
   "metadata": {},
   "source": [
    "# Longest queries in Splunk"
   ]
  },
  {
   "cell_type": "markdown",
   "id": "9fbcef5a-837c-4635-913f-ad586c047270",
   "metadata": {},
   "source": [
    "https://splunk.cloudshare.com/en-US/app/search/search?q=search%20index%3Ddbx_debug%20%7C%20eval%20CPU%20%3D%20tonumber(replace(CPU%2C%20%22%2C%22%2C%20%22%22))%20%7C%20table%20collection_time%20session_id%20status%20start_time%20CPU%20used_memory%20database_name%20login_name%20login_time%20open_tran_count%20physical_reads%20reads%20writes%20program_name%20sql_text%20blocking_session_id%20%7C%20sort%20CPU%20desc&display.page.search.mode=verbose&dispatch.sample_ratio=1&workload_pool=&earliest=-7d%40h&latest=now&display.events.fields=%5B%22host%22%2C%22source%22%2C%22sourcetype%22%2C%22action_name%22%2C%22ip%22%2C%22hostname%22%2C%22EMS%22%2C%22eventtype%22%2C%22message%22%2C%22severity%22%2C%22vc%22%2C%22query%22%2C%22CampaignName%22%2C%22DiskSizeGB%22%2C%22GBRam%22%2C%22MemorySizeGB%22%2C%22NumEnvsOnDisk%22%2C%22NumMachinesOnDisk%22%2C%22NumRunningEnvs%22%2C%22NumRunningMachines%22%2C%22PrototypeId%22%2C%22PrototypeName%22%2C%22TotalDisk%22%2C%22orig_data%22%2C%22up_numofentries%22%2C%22up_titleRequired%22%2C%22url%22%2C%22uri%22%2C%22bytes_transferred_raw%22%2C%22logger%22%2C%22target_address%22%2C%22transfer_rate%22%2C%22transfer_rate_raw%22%2C%22transfer_rate_pretty_print%22%2C%22bmid%22%2C%22extension%22%2C%22filepath%22%2C%22isBlueprint%22%2C%22mgid%22%2C%22CPU%22%2C%22collection_time%22%2C%22program_name%22%2C%22request_id%22%2C%22physical_reads%22%2C%22open_tran_count%22%2C%22login_name%22%2C%22login_time%22%2C%22reads%22%2C%22session_id%22%2C%22sql_text%22%2C%22status%22%2C%22used_memory%22%2C%22wait_info%22%2C%22writes%22%2C%22start_time%22%2C%22ss_mss%22%2C%22tempdb_allocations%22%2C%22tempdb_current%22%2C%22database_name%22%5D&display.general.type=statistics&display.page.search.tab=statistics&sid=1738748669.5454480"
   ]
  },
  {
   "cell_type": "markdown",
   "id": "e954ce46-20c5-4448-9746-4173211b90da",
   "metadata": {},
   "source": [
    "# Query to remove unsued pathes"
   ]
  },
  {
   "cell_type": "markdown",
   "id": "0d10ab43-7087-43d1-a0b8-a8548398eaa1",
   "metadata": {},
   "source": [
    "## Original query"
   ]
  },
  {
   "cell_type": "raw",
   "id": "72c1f362-eb84-4924-b725-9c4eef89373b",
   "metadata": {},
   "source": [
    "CPU time: 1858586ms is 00:30:58 (HH:MM:SS).\n",
    "\n",
    "On local machine takes 00:02:36"
   ]
  },
  {
   "cell_type": "raw",
   "id": "10b625f8-a3f6-4994-9c92-49215cc6c9ea",
   "metadata": {},
   "source": [
    "select * from BackendMachineSharedFolders bmsf\n",
    "            where not exists (select 1 from BackendMachines where bmsf.Path=MainDiskFolderVmwarePath and LifecycleStatusInt != 5) and\n",
    "            not exists (select 1 from BackendMachines where bmsf.Path=MemoryFolderVmwarePath and LifecycleStatusInt != 5) and\n",
    "            not exists (select 1 from BackendMachines where bmsf.Path=ReferencedMemoryFolderVmwarePath and LifecycleStatusInt != 5) and\n",
    "            not exists (select 1 from BackendMachines where bmsf.Path=OriginalMemoryFolderVmwarePath and LifecycleStatusInt != 5) and\n",
    "            not exists (select 1 from BackendMachines where bmsf.Path=RepointToMainDiskFolderVmwarePath and LifecycleStatusInt != 5) and\n",
    "            not exists (select 1 from BackendMachines where bmsf.Path=LcFolderPrimary and LifecycleStatusInt != 5) and\n",
    "            not exists (select 1 from BackendMachines where CHARINDEX(bmsf.Path, VmwaredatastorePath)=1 and LifecycleStatusInt != 5)\n"
   ]
  },
  {
   "cell_type": "markdown",
   "id": "a94f0001-c6a5-4637-bfd8-15b9d5706b18",
   "metadata": {},
   "source": [
    "### With temp table"
   ]
  },
  {
   "cell_type": "raw",
   "id": "bded4211-81e6-4e83-b1a4-c2acb5ebc777",
   "metadata": {},
   "source": [
    "DBCC DROPCLEANBUFFERS;\n",
    "DBCC FREEPROCCACHE;\n",
    "---------------------------\n",
    "IF OBJECT_ID('tempdb..#A') IS NOT NULL\n",
    "    DROP TABLE #A;\n",
    "SELECT bmsf.[Path], bmsf.RegionId\n",
    "INTO #A\n",
    "FROM dbo.BackendMachineSharedFolders bmsf\n",
    "WHERE NOT EXISTS (\n",
    "    SELECT 1\n",
    "    FROM BackendMachines bm\n",
    "    WHERE bm.LifecycleStatusInt <> 5\n",
    "      AND (\n",
    "    bmsf.Path = bm.RepointToMainDiskFolderVmwarePath\n",
    "      --  OR CHARINDEX(bmsf.Path, bm.VmwaredatastorePath) = 1\n",
    "      )\n",
    ");\n",
    "-------------------------------\n",
    "IF OBJECT_ID('tempdb..#B') IS NOT NULL\n",
    "    DROP TABLE #B;\n",
    "SELECT bmsf.[Path], bmsf.RegionId\n",
    "INTO #B\n",
    "FROM #A bmsf\n",
    "WHERE NOT EXISTS (\n",
    "    SELECT 1\n",
    "    FROM BackendMachines bm\n",
    "    WHERE bm.LifecycleStatusInt <> 5\n",
    "      AND (\n",
    "          bmsf.Path = bm.MainDiskFolderVmwarePath\n",
    "       OR bmsf.Path = bm.MemoryFolderVmwarePath\n",
    "       OR bmsf.Path = bm.ReferencedMemoryFolderVmwarePath\n",
    "       OR bmsf.Path = bm.OriginalMemoryFolderVmwarePath\n",
    "    --    OR\n",
    "    -- bmsf.Path = bm.RepointToMainDiskFolderVmwarePath\n",
    "       OR bmsf.Path = bm.LcFolderPrimary\n",
    "    --    OR CHARINDEX(bmsf.Path, bm.VmwaredatastorePath) = 1\n",
    "      )\n",
    ");\n",
    "SELECT bmsf.[Path], bmsf.RegionId\n",
    "FROM #B bmsf\n",
    "WHERE NOT EXISTS (\n",
    "    SELECT 1\n",
    "    FROM BackendMachines bm\n",
    "    WHERE bm.LifecycleStatusInt <> 5\n",
    "      AND (\n",
    "          -- bmsf.Path = bm.MainDiskFolderVmwarePath\n",
    "      --  OR bmsf.Path = bm.MemoryFolderVmwarePath\n",
    "      --  OR bmsf.Path = bm.ReferencedMemoryFolderVmwarePath\n",
    "      --  OR bmsf.Path = bm.OriginalMemoryFolderVmwarePath\n",
    "    --    OR\n",
    "    -- bmsf.Path = bm.RepointToMainDiskFolderVmwarePath\n",
    "      --  OR bmsf.Path = bm.LcFolderPrimary\n",
    "      --  OR\n",
    "      CHARINDEX(bmsf.Path, bm.VmwaredatastorePath) = 1\n",
    "      )\n",
    ");"
   ]
  },
  {
   "cell_type": "code",
   "execution_count": null,
   "id": "aa8935b4-3f7d-4186-9c6c-0f36a7a7b5d4",
   "metadata": {},
   "outputs": [],
   "source": [
    "SET ANSI_PADDING ON\n",
    "GO\n",
    "CREATE NONCLUSTERED INDEX [<Name of Missing Index, sysname,>] ON [dbo].[BackendMachines]\n",
    "(\n",
    "\t[LcFolderPrimary] ASC\n",
    ")\n",
    "INCLUDE([LifecycleStatusInt]) WITH (PAD_INDEX = OFF, STATISTICS_NORECOMPUTE = OFF, SORT_IN_TEMPDB = OFF, DROP_EXISTING = OFF, ONLINE = OFF, ALLOW_ROW_LOCKS = ON, ALLOW_PAGE_LOCKS = ON) ON [PRIMARY]\n",
    "GO"
   ]
  },
  {
   "cell_type": "code",
   "execution_count": null,
   "id": "926a1df0-5d16-4cca-b643-7b8626b82892",
   "metadata": {},
   "outputs": [],
   "source": []
  }
 ],
 "metadata": {
  "kernelspec": {
   "display_name": "Python 3 (ipykernel)",
   "language": "python",
   "name": "python3"
  },
  "language_info": {
   "codemirror_mode": {
    "name": "ipython",
    "version": 3
   },
   "file_extension": ".py",
   "mimetype": "text/x-python",
   "name": "python",
   "nbconvert_exporter": "python",
   "pygments_lexer": "ipython3",
   "version": "3.13.2"
  }
 },
 "nbformat": 4,
 "nbformat_minor": 5
}
