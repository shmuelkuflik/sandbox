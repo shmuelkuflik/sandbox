{
 "cells": [
  {
   "cell_type": "code",
   "execution_count": 9,
   "metadata": {},
   "outputs": [],
   "source": [
    "# Import the necessary libraries, including pyodbc and pandas\n",
    "import pyodbc\n",
    "import pandas as pd\n",
    "import os\n",
    "import re\n",
    "from datetime import datetime"
   ]
  },
  {
   "cell_type": "markdown",
   "metadata": {},
   "source": [
    "# Preparations"
   ]
  },
  {
   "cell_type": "markdown",
   "metadata": {},
   "source": [
    "## Installations"
   ]
  },
  {
   "cell_type": "code",
   "execution_count": 36,
   "metadata": {
    "scrolled": true
   },
   "outputs": [],
   "source": [
    "# Install the necessary libraries using pip\n",
    "\n",
    "# !pip install pyodbc pandas\n",
    "# !brew install graphviz\n",
    "# !pip install graphviz"
   ]
  },
  {
   "cell_type": "markdown",
   "metadata": {},
   "source": [
    "## Set Up Database Connection"
   ]
  },
  {
   "cell_type": "code",
   "execution_count": 3,
   "metadata": {},
   "outputs": [],
   "source": [
    "def get_linux_password(env_file):\n",
    "    env_file = os.path.expanduser(env_file)\n",
    "    with open(env_file, \"r\") as file:\n",
    "        for line in file:\n",
    "            match = re.match(r\"LINUX_PASSWORD='''(.+)'''\", line)\n",
    "            if match:\n",
    "                return match.group(1)\n",
    "    return None\n",
    "\n",
    "db_password = get_linux_password(\"~/.bitwarden1.env\")\n"
   ]
  },
  {
   "cell_type": "code",
   "execution_count": 4,
   "metadata": {},
   "outputs": [
    {
     "name": "stdout",
     "output_type": "stream",
     "text": [
      "check if VPN is connected...\n",
      "Connected\n",
      "Connected to server: LAB-SQL-01\\TEST01\n"
     ]
    }
   ],
   "source": [
    "! echo \"check if VPN is connected...\"\n",
    "! scutil --nc status \"VPN\" | head -n 1 | grep Connected || (echo \"❌ VPN is not connected!\")\n",
    "\n",
    "# Define the connection string\n",
    "connection_string = (\n",
    "    \"DRIVER={ODBC Driver 17 for SQL Server};\"\n",
    "    \"SERVER=10.213.254.250\\\\TEST01;\"\n",
    "    \"DATABASE=ITST_Test_1;\"\n",
    "    \"UID=sa;\"\n",
    "    f\"PWD={db_password}\"\n",
    ")\n",
    "\n",
    "# Establish the connection\n",
    "connection = pyodbc.connect(connection_string)\n",
    "\n",
    "# Verify the connection by printing the server name\n",
    "cursor = connection.cursor()\n",
    "cursor.execute(\"SELECT @@SERVERNAME\")\n",
    "server_name = cursor.fetchone()[0]\n",
    "print(f\"Connected to server: {server_name}\")\n"
   ]
  },
  {
   "cell_type": "code",
   "execution_count": 5,
   "metadata": {},
   "outputs": [],
   "source": [
    "# cursor.close()\n",
    "# connection.close()"
   ]
  },
  {
   "cell_type": "code",
   "execution_count": 12,
   "metadata": {},
   "outputs": [],
   "source": [
    "# Execute a Simple Query\n",
    "def run_query(query):    \n",
    "    start_time = datetime.now()\n",
    "    print(query)\n",
    "    # Execute a simple SQL query\n",
    "    cursor.execute(query)\n",
    "    \n",
    "    # Fetch the results\n",
    "    results = cursor.fetchall()\n",
    "    \n",
    "    # Convert the results to a pandas DataFrame\n",
    "    df = pd.DataFrame.from_records(results, columns=[column[0] for column in cursor.description])\n",
    "    end_time = datetime.now()\n",
    "    print(f\"took {end_time - start_time}\")\n",
    "    return df"
   ]
  },
  {
   "cell_type": "code",
   "execution_count": 13,
   "metadata": {},
   "outputs": [
    {
     "name": "stdout",
     "output_type": "stream",
     "text": [
      "SELECT TOP 10 * FROM INFORMATION_SCHEMA.TABLES\n",
      "took 0:00:00.186873\n"
     ]
    },
    {
     "data": {
      "text/html": [
       "<div>\n",
       "<style scoped>\n",
       "    .dataframe tbody tr th:only-of-type {\n",
       "        vertical-align: middle;\n",
       "    }\n",
       "\n",
       "    .dataframe tbody tr th {\n",
       "        vertical-align: top;\n",
       "    }\n",
       "\n",
       "    .dataframe thead th {\n",
       "        text-align: right;\n",
       "    }\n",
       "</style>\n",
       "<table border=\"1\" class=\"dataframe\">\n",
       "  <thead>\n",
       "    <tr style=\"text-align: right;\">\n",
       "      <th></th>\n",
       "      <th>TABLE_CATALOG</th>\n",
       "      <th>TABLE_SCHEMA</th>\n",
       "      <th>TABLE_NAME</th>\n",
       "      <th>TABLE_TYPE</th>\n",
       "    </tr>\n",
       "  </thead>\n",
       "  <tbody>\n",
       "    <tr>\n",
       "      <th>0</th>\n",
       "      <td>ITST_Test_1</td>\n",
       "      <td>dbo</td>\n",
       "      <td>IdRanges</td>\n",
       "      <td>BASE TABLE</td>\n",
       "    </tr>\n",
       "    <tr>\n",
       "      <th>1</th>\n",
       "      <td>ITST_Test_1</td>\n",
       "      <td>dbo</td>\n",
       "      <td>UserOAuthAccessTokens</td>\n",
       "      <td>BASE TABLE</td>\n",
       "    </tr>\n",
       "    <tr>\n",
       "      <th>2</th>\n",
       "      <td>ITST_Test_1</td>\n",
       "      <td>dbo</td>\n",
       "      <td>Projects</td>\n",
       "      <td>BASE TABLE</td>\n",
       "    </tr>\n",
       "    <tr>\n",
       "      <th>3</th>\n",
       "      <td>ITST_Test_1</td>\n",
       "      <td>dbo</td>\n",
       "      <td>ProjectIpRestrictions</td>\n",
       "      <td>BASE TABLE</td>\n",
       "    </tr>\n",
       "    <tr>\n",
       "      <th>4</th>\n",
       "      <td>ITST_Test_1</td>\n",
       "      <td>dbo</td>\n",
       "      <td>PredictorTrainings</td>\n",
       "      <td>BASE TABLE</td>\n",
       "    </tr>\n",
       "    <tr>\n",
       "      <th>5</th>\n",
       "      <td>ITST_Test_1</td>\n",
       "      <td>dbo</td>\n",
       "      <td>Splunk_User_TemplateType</td>\n",
       "      <td>VIEW</td>\n",
       "    </tr>\n",
       "    <tr>\n",
       "      <th>6</th>\n",
       "      <td>ITST_Test_1</td>\n",
       "      <td>dbo</td>\n",
       "      <td>env_w_storage_issue</td>\n",
       "      <td>BASE TABLE</td>\n",
       "    </tr>\n",
       "    <tr>\n",
       "      <th>7</th>\n",
       "      <td>ITST_Test_1</td>\n",
       "      <td>dbo</td>\n",
       "      <td>CourseStages</td>\n",
       "      <td>BASE TABLE</td>\n",
       "    </tr>\n",
       "    <tr>\n",
       "      <th>8</th>\n",
       "      <td>ITST_Test_1</td>\n",
       "      <td>dbo</td>\n",
       "      <td>UserFeatureViews</td>\n",
       "      <td>BASE TABLE</td>\n",
       "    </tr>\n",
       "    <tr>\n",
       "      <th>9</th>\n",
       "      <td>ITST_Test_1</td>\n",
       "      <td>dbo</td>\n",
       "      <td>WebHookSubscriptions</td>\n",
       "      <td>BASE TABLE</td>\n",
       "    </tr>\n",
       "  </tbody>\n",
       "</table>\n",
       "</div>"
      ],
      "text/plain": [
       "  TABLE_CATALOG TABLE_SCHEMA                TABLE_NAME  TABLE_TYPE\n",
       "0   ITST_Test_1          dbo                  IdRanges  BASE TABLE\n",
       "1   ITST_Test_1          dbo     UserOAuthAccessTokens  BASE TABLE\n",
       "2   ITST_Test_1          dbo                  Projects  BASE TABLE\n",
       "3   ITST_Test_1          dbo     ProjectIpRestrictions  BASE TABLE\n",
       "4   ITST_Test_1          dbo        PredictorTrainings  BASE TABLE\n",
       "5   ITST_Test_1          dbo  Splunk_User_TemplateType        VIEW\n",
       "6   ITST_Test_1          dbo       env_w_storage_issue  BASE TABLE\n",
       "7   ITST_Test_1          dbo              CourseStages  BASE TABLE\n",
       "8   ITST_Test_1          dbo          UserFeatureViews  BASE TABLE\n",
       "9   ITST_Test_1          dbo      WebHookSubscriptions  BASE TABLE"
      ]
     },
     "execution_count": 13,
     "metadata": {},
     "output_type": "execute_result"
    }
   ],
   "source": [
    "run_query(\"SELECT TOP 10 * FROM INFORMATION_SCHEMA.TABLES\")"
   ]
  },
  {
   "cell_type": "markdown",
   "metadata": {},
   "source": [
    "# Check long qureis\n"
   ]
  },
  {
   "cell_type": "code",
   "execution_count": 20,
   "metadata": {},
   "outputs": [
    {
     "name": "stdout",
     "output_type": "stream",
     "text": [
      "\n",
      "SET SHOWPLAN_TEXT ON;\n",
      "SELECT TOP 10 Hostname FROM BackendMachines WHERE LifecycleStatusInt=1;\n",
      "SET SHOWPLAN_TEXT OFF;\n",
      "\n"
     ]
    },
    {
     "ename": "ProgrammingError",
     "evalue": "('42000', '[42000] [Microsoft][ODBC Driver 17 for SQL Server][SQL Server]The SET SHOWPLAN statements must be the only statements in the batch. (1067) (SQLExecDirectW)')",
     "output_type": "error",
     "traceback": [
      "\u001b[0;31m---------------------------------------------------------------------------\u001b[0m",
      "\u001b[0;31mProgrammingError\u001b[0m                          Traceback (most recent call last)",
      "Cell \u001b[0;32mIn[20], line 46\u001b[0m\n\u001b[1;32m     39\u001b[0m \u001b[38;5;66;03m# Run the query\u001b[39;00m\n\u001b[1;32m     40\u001b[0m query \u001b[38;5;241m=\u001b[39m \u001b[38;5;124m\"\"\"\u001b[39m\n\u001b[1;32m     41\u001b[0m \u001b[38;5;124mSET SHOWPLAN_TEXT ON;\u001b[39m\n\u001b[1;32m     42\u001b[0m \u001b[38;5;124mSELECT TOP 10 Hostname FROM BackendMachines WHERE LifecycleStatusInt=1;\u001b[39m\n\u001b[1;32m     43\u001b[0m \u001b[38;5;124mSET SHOWPLAN_TEXT OFF;\u001b[39m\n\u001b[1;32m     44\u001b[0m \u001b[38;5;124m\"\"\"\u001b[39m\n\u001b[0;32m---> 46\u001b[0m df \u001b[38;5;241m=\u001b[39m \u001b[43mrun_query\u001b[49m\u001b[43m(\u001b[49m\u001b[43mquery\u001b[49m\u001b[43m,\u001b[49m\u001b[43m \u001b[49m\u001b[43mconnection\u001b[49m\u001b[43m)\u001b[49m\n\u001b[1;32m     47\u001b[0m \u001b[38;5;28mprint\u001b[39m(df)\n",
      "Cell \u001b[0;32mIn[20], line 18\u001b[0m, in \u001b[0;36mrun_query\u001b[0;34m(query, connection)\u001b[0m\n\u001b[1;32m     16\u001b[0m     q \u001b[38;5;241m=\u001b[39m q\u001b[38;5;241m.\u001b[39mstrip()\n\u001b[1;32m     17\u001b[0m     \u001b[38;5;28;01mif\u001b[39;00m q:  \u001b[38;5;66;03m# Ignore empty queries\u001b[39;00m\n\u001b[0;32m---> 18\u001b[0m         \u001b[43mcursor\u001b[49m\u001b[38;5;241;43m.\u001b[39;49m\u001b[43mexecute\u001b[49m\u001b[43m(\u001b[49m\u001b[43mq\u001b[49m\u001b[43m)\u001b[49m\n\u001b[1;32m     20\u001b[0m \u001b[38;5;66;03m# Fetch results only for the last executed query\u001b[39;00m\n\u001b[1;32m     21\u001b[0m results \u001b[38;5;241m=\u001b[39m cursor\u001b[38;5;241m.\u001b[39mfetchall()\n",
      "\u001b[0;31mProgrammingError\u001b[0m: ('42000', '[42000] [Microsoft][ODBC Driver 17 for SQL Server][SQL Server]The SET SHOWPLAN statements must be the only statements in the batch. (1067) (SQLExecDirectW)')"
     ]
    }
   ],
   "source": [
    "import pyodbc\n",
    "import pandas as pd\n",
    "from datetime import datetime\n",
    "\n",
    "def run_query(query, connection):\n",
    "    start_time = datetime.now()\n",
    "    print(query)\n",
    "\n",
    "    # Create a new cursor\n",
    "    cursor = connection.cursor()\n",
    "\n",
    "    # Split query by 'GO' (if it exists)\n",
    "    queries = query.split(\"GO\")\n",
    "\n",
    "    for q in queries:\n",
    "        q = q.strip()\n",
    "        if q:  # Ignore empty queries\n",
    "            cursor.execute(q)\n",
    "    \n",
    "    # Fetch results only for the last executed query\n",
    "    results = cursor.fetchall()\n",
    "    df = pd.DataFrame.from_records(results, columns=[column[0] for column in cursor.description])\n",
    "    \n",
    "    end_time = datetime.now()\n",
    "    print(f\"took {end_time - start_time}\")\n",
    "    \n",
    "    return df\n",
    "\n",
    "# Establish the connection\n",
    "connection_string = (\n",
    "    \"DRIVER={ODBC Driver 17 for SQL Server};\"\n",
    "    \"SERVER=10.213.254.250\\\\TEST01;\"\n",
    "    \"DATABASE=ITST_Test_1;\"\n",
    "    \"UID=sa;\"\n",
    "    f\"PWD={db_password}\"\n",
    ")\n",
    "connection = pyodbc.connect(connection_string)\n",
    "\n",
    "# Run the query\n",
    "query = \"\"\"\n",
    "SET SHOWPLAN_TEXT ON;\n",
    "SELECT TOP 10 Hostname FROM BackendMachines WHERE LifecycleStatusInt=1;\n",
    "SET SHOWPLAN_TEXT OFF;\n",
    "\"\"\"\n",
    "\n",
    "df = run_query(query, connection)\n",
    "print(df)\n"
   ]
  },
  {
   "cell_type": "code",
   "execution_count": 23,
   "metadata": {},
   "outputs": [],
   "source": [
    "def run_query(query, showplan=False):\n",
    "    start_time = datetime.now()\n",
    "    print(query)\n",
    "\n",
    "    cursor = connection.cursor()\n",
    "\n",
    "    if showplan:\n",
    "        # Enable execution plan mode (SHOWPLAN_TEXT)\n",
    "        cursor.execute(\"SET SHOWPLAN_TEXT ON;\")\n",
    "        cursor.commit()  # Ensure it's applied\n",
    "\n",
    "    cursor.execute(query)\n",
    "\n",
    "    results = cursor.fetchall()\n",
    "    df = pd.DataFrame.from_records(results, columns=[column[0] for column in cursor.description])\n",
    "\n",
    "    if showplan:\n",
    "        # Disable execution plan mode after fetching results\n",
    "        cursor.execute(\"SET SHOWPLAN_TEXT OFF;\")\n",
    "        cursor.commit()\n",
    "\n",
    "    end_time = datetime.now()\n",
    "    print(f\"took {end_time - start_time}\")\n",
    "    \n",
    "    return df"
   ]
  },
  {
   "cell_type": "code",
   "execution_count": 24,
   "metadata": {},
   "outputs": [
    {
     "name": "stdout",
     "output_type": "stream",
     "text": [
      "SELECT TOP 10 * FROM INFORMATION_SCHEMA.TABLES\n",
      "took 0:00:00.187544\n"
     ]
    },
    {
     "data": {
      "text/html": [
       "<div>\n",
       "<style scoped>\n",
       "    .dataframe tbody tr th:only-of-type {\n",
       "        vertical-align: middle;\n",
       "    }\n",
       "\n",
       "    .dataframe tbody tr th {\n",
       "        vertical-align: top;\n",
       "    }\n",
       "\n",
       "    .dataframe thead th {\n",
       "        text-align: right;\n",
       "    }\n",
       "</style>\n",
       "<table border=\"1\" class=\"dataframe\">\n",
       "  <thead>\n",
       "    <tr style=\"text-align: right;\">\n",
       "      <th></th>\n",
       "      <th>TABLE_CATALOG</th>\n",
       "      <th>TABLE_SCHEMA</th>\n",
       "      <th>TABLE_NAME</th>\n",
       "      <th>TABLE_TYPE</th>\n",
       "    </tr>\n",
       "  </thead>\n",
       "  <tbody>\n",
       "    <tr>\n",
       "      <th>0</th>\n",
       "      <td>ITST_Test_1</td>\n",
       "      <td>dbo</td>\n",
       "      <td>IdRanges</td>\n",
       "      <td>BASE TABLE</td>\n",
       "    </tr>\n",
       "    <tr>\n",
       "      <th>1</th>\n",
       "      <td>ITST_Test_1</td>\n",
       "      <td>dbo</td>\n",
       "      <td>UserOAuthAccessTokens</td>\n",
       "      <td>BASE TABLE</td>\n",
       "    </tr>\n",
       "    <tr>\n",
       "      <th>2</th>\n",
       "      <td>ITST_Test_1</td>\n",
       "      <td>dbo</td>\n",
       "      <td>Projects</td>\n",
       "      <td>BASE TABLE</td>\n",
       "    </tr>\n",
       "    <tr>\n",
       "      <th>3</th>\n",
       "      <td>ITST_Test_1</td>\n",
       "      <td>dbo</td>\n",
       "      <td>ProjectIpRestrictions</td>\n",
       "      <td>BASE TABLE</td>\n",
       "    </tr>\n",
       "    <tr>\n",
       "      <th>4</th>\n",
       "      <td>ITST_Test_1</td>\n",
       "      <td>dbo</td>\n",
       "      <td>PredictorTrainings</td>\n",
       "      <td>BASE TABLE</td>\n",
       "    </tr>\n",
       "    <tr>\n",
       "      <th>5</th>\n",
       "      <td>ITST_Test_1</td>\n",
       "      <td>dbo</td>\n",
       "      <td>Splunk_User_TemplateType</td>\n",
       "      <td>VIEW</td>\n",
       "    </tr>\n",
       "    <tr>\n",
       "      <th>6</th>\n",
       "      <td>ITST_Test_1</td>\n",
       "      <td>dbo</td>\n",
       "      <td>env_w_storage_issue</td>\n",
       "      <td>BASE TABLE</td>\n",
       "    </tr>\n",
       "    <tr>\n",
       "      <th>7</th>\n",
       "      <td>ITST_Test_1</td>\n",
       "      <td>dbo</td>\n",
       "      <td>CourseStages</td>\n",
       "      <td>BASE TABLE</td>\n",
       "    </tr>\n",
       "    <tr>\n",
       "      <th>8</th>\n",
       "      <td>ITST_Test_1</td>\n",
       "      <td>dbo</td>\n",
       "      <td>UserFeatureViews</td>\n",
       "      <td>BASE TABLE</td>\n",
       "    </tr>\n",
       "    <tr>\n",
       "      <th>9</th>\n",
       "      <td>ITST_Test_1</td>\n",
       "      <td>dbo</td>\n",
       "      <td>WebHookSubscriptions</td>\n",
       "      <td>BASE TABLE</td>\n",
       "    </tr>\n",
       "  </tbody>\n",
       "</table>\n",
       "</div>"
      ],
      "text/plain": [
       "  TABLE_CATALOG TABLE_SCHEMA                TABLE_NAME  TABLE_TYPE\n",
       "0   ITST_Test_1          dbo                  IdRanges  BASE TABLE\n",
       "1   ITST_Test_1          dbo     UserOAuthAccessTokens  BASE TABLE\n",
       "2   ITST_Test_1          dbo                  Projects  BASE TABLE\n",
       "3   ITST_Test_1          dbo     ProjectIpRestrictions  BASE TABLE\n",
       "4   ITST_Test_1          dbo        PredictorTrainings  BASE TABLE\n",
       "5   ITST_Test_1          dbo  Splunk_User_TemplateType        VIEW\n",
       "6   ITST_Test_1          dbo       env_w_storage_issue  BASE TABLE\n",
       "7   ITST_Test_1          dbo              CourseStages  BASE TABLE\n",
       "8   ITST_Test_1          dbo          UserFeatureViews  BASE TABLE\n",
       "9   ITST_Test_1          dbo      WebHookSubscriptions  BASE TABLE"
      ]
     },
     "execution_count": 24,
     "metadata": {},
     "output_type": "execute_result"
    }
   ],
   "source": [
    "run_query(\"SELECT TOP 10 * FROM INFORMATION_SCHEMA.TABLES\")"
   ]
  },
  {
   "cell_type": "code",
   "execution_count": 26,
   "metadata": {},
   "outputs": [
    {
     "name": "stdout",
     "output_type": "stream",
     "text": [
      "SELECT TOP 10 Hostname FROM BackendMachines WHERE LifecycleStatusInt=1;\n",
      "took 0:00:00.972116\n",
      "SELECT TOP 10 Hostname FROM BackendMachines WHERE LifecycleStatusInt=1;\n"
     ]
    }
   ],
   "source": [
    "query = \"SELECT TOP 10 Hostname FROM BackendMachines WHERE LifecycleStatusInt=1;\"\n",
    "df = run_query(query, showplan=True)\n",
    "\n",
    "# Print the execution plan output\n",
    "for row in df.itertuples():\n",
    "    print(row[1])\n"
   ]
  },
  {
   "cell_type": "code",
   "execution_count": 30,
   "metadata": {},
   "outputs": [],
   "source": [
    "from IPython.display import display, Image\n",
    "\n",
    "# display(Image(\"/Users/shmuel.kuflik/Downloads/image.png\"))\n",
    "\n",
    "\n"
   ]
  },
  {
   "cell_type": "code",
   "execution_count": 33,
   "metadata": {},
   "outputs": [
    {
     "name": "stdout",
     "output_type": "stream",
     "text": [
      "Execution plan saved as execution_plan.sqlplan\n"
     ]
    }
   ],
   "source": [
    "import pyodbc\n",
    "import pandas as pd\n",
    "import xml.etree.ElementTree as ET\n",
    "\n",
    "def get_execution_plan_xml(query, connection):\n",
    "    cursor = connection.cursor()\n",
    "\n",
    "    # Enable execution plan mode\n",
    "    cursor.execute(\"SET SHOWPLAN_XML ON;\")\n",
    "    cursor.commit()\n",
    "\n",
    "    # Execute the query (returns execution plan XML)\n",
    "    cursor.execute(query)\n",
    "    xml_data = cursor.fetchone()[0]  # First column contains the XML\n",
    "\n",
    "    # Disable execution plan mode\n",
    "    cursor.execute(\"SET SHOWPLAN_XML OFF;\")\n",
    "    cursor.commit()\n",
    "\n",
    "    return xml_data  # Return raw XML for further processing\n",
    "\n",
    "# Establish the connection\n",
    "connection_string = (\n",
    "    \"DRIVER={ODBC Driver 17 for SQL Server};\"\n",
    "    \"SERVER=10.213.254.250\\\\TEST01;\"\n",
    "    \"DATABASE=ITST_Test_1;\"\n",
    "    \"UID=sa;\"\n",
    "    f\"PWD={db_password}\"\n",
    ")\n",
    "connection = pyodbc.connect(connection_string)\n",
    "\n",
    "# Run the query and get the execution plan XML\n",
    "query = \"SELECT TOP 10 Hostname FROM BackendMachines WHERE LifecycleStatusInt=1;\"\n",
    "xml_execution_plan = get_execution_plan_xml(query, connection)\n",
    "\n",
    "# Save the XML file for visualization\n",
    "with open(\"execution_plan.sqlplan\", \"w\", encoding=\"utf-8\") as file:\n",
    "    file.write(xml_execution_plan)\n",
    "\n",
    "print(\"Execution plan saved as execution_plan.sqlplan\")\n"
   ]
  },
  {
   "cell_type": "code",
   "execution_count": 37,
   "metadata": {},
   "outputs": [
    {
     "name": "stdout",
     "output_type": "stream",
     "text": [
      "Execution plan saved as execution_plan.png\n"
     ]
    }
   ],
   "source": [
    "from graphviz import Digraph\n",
    "import xml.etree.ElementTree as ET\n",
    "\n",
    "def xml_to_graph(xml_data, output_image=\"execution_plan.png\"):\n",
    "    root = ET.fromstring(xml_data)\n",
    "    \n",
    "    graph = Digraph(format=\"png\")\n",
    "    graph.attr(dpi=\"300\")  # High resolution\n",
    "\n",
    "    # Parse Execution Plan Nodes\n",
    "    for node in root.findall(\".//RelOp\"):\n",
    "        node_id = node.get(\"NodeId\")\n",
    "        physical_op = node.get(\"PhysicalOp\")\n",
    "        logical_op = node.get(\"LogicalOp\")\n",
    "\n",
    "        # Add node to graph\n",
    "        graph.node(node_id, f\"{physical_op}\\n({logical_op})\", shape=\"box\", style=\"filled\", fillcolor=\"lightblue\")\n",
    "\n",
    "        # Add edges (relationships between nodes)\n",
    "        for child in node.findall(\".//RelOp\"):\n",
    "            child_id = child.get(\"NodeId\")\n",
    "            graph.edge(node_id, child_id)\n",
    "\n",
    "    # Save and render the graph\n",
    "    graph.render(output_image, format=\"png\", cleanup=True)\n",
    "    print(f\"Execution plan saved as {output_image}\")\n",
    "\n",
    "# Generate the execution plan image\n",
    "xml_to_graph(xml_execution_plan)\n"
   ]
  },
  {
   "cell_type": "code",
   "execution_count": 40,
   "metadata": {},
   "outputs": [
    {
     "data": {
      "image/png": "[encoded data removed]",
      "text/plain": [
       "<IPython.core.display.Image object>"
      ]
     },
     "metadata": {},
     "output_type": "display_data"
    }
   ],
   "source": [
    "from IPython.display import display, Image\n",
    "\n",
    "display(Image(\"execution_plan.png.png\"))"
   ]
  },
  {
   "cell_type": "code",
   "execution_count": null,
   "metadata": {},
   "outputs": [],
   "source": []
  },
  {
   "cell_type": "code",
   "execution_count": null,
   "metadata": {},
   "outputs": [],
   "source": []
  }
 ],
 "metadata": {
  "kernelspec": {
   "display_name": "Python 3 (ipykernel)",
   "language": "python",
   "name": "python3"
  },
  "language_info": {
   "codemirror_mode": {
    "name": "ipython",
    "version": 3
   },
   "file_extension": ".py",
   "mimetype": "text/x-python",
   "name": "python",
   "nbconvert_exporter": "python",
   "pygments_lexer": "ipython3",
   "version": "3.13.2"
  }
 },
 "nbformat": 4,
 "nbformat_minor": 4
}
