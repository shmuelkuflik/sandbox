{
 "cells": [
  {
   "cell_type": "code",
   "execution_count": 24,
   "metadata": {},
   "outputs": [],
   "source": [
    "# Import the necessary libraries, including pyodbc and pandas\n",
    "import pyodbc\n",
    "import pandas as pd\n",
    "import os\n",
    "import re"
   ]
  },
  {
   "cell_type": "markdown",
   "metadata": {},
   "source": [
    "# Preparations"
   ]
  },
  {
   "cell_type": "markdown",
   "metadata": {},
   "source": [
    "## Installations"
   ]
  },
  {
   "cell_type": "code",
   "execution_count": 49,
   "metadata": {
    "scrolled": true
   },
   "outputs": [],
   "source": [
    "# Install the necessary libraries using pip\n",
    "\n",
    "# !pip install pyodbc pandas"
   ]
  },
  {
   "cell_type": "markdown",
   "metadata": {},
   "source": [
    "## Set Up Database Connection\n",
    "Set up the connection to the MSSQL 2012 database using pyodbc.connect()."
   ]
  },
  {
   "cell_type": "code",
   "execution_count": 41,
   "metadata": {},
   "outputs": [
    {
     "name": "stdout",
     "output_type": "stream",
     "text": [
      "check if VPN is connected...\n",
      "Connected\n"
     ]
    }
   ],
   "source": [
    "! echo \"check if VPN is connected...\"\n",
    "! scutil --nc status \"VPN\" | head -n 1 | grep Connected || (echo \"VPN is not connected\"; exit 1)"
   ]
  },
  {
   "cell_type": "code",
   "execution_count": 30,
   "metadata": {},
   "outputs": [],
   "source": [
    "def get_linux_password(env_file):\n",
    "    env_file = os.path.expanduser(env_file)\n",
    "    with open(env_file, \"r\") as file:\n",
    "        for line in file:\n",
    "            match = re.match(r\"LINUX_PASSWORD='''(.+)'''\", line)\n",
    "            if match:\n",
    "                return match.group(1)\n",
    "    return None\n",
    "\n",
    "db_password = get_linux_password(\"~/.bitwarden1.env\")\n"
   ]
  },
  {
   "cell_type": "code",
   "execution_count": 36,
   "metadata": {},
   "outputs": [
    {
     "name": "stdout",
     "output_type": "stream",
     "text": [
      "Connected to server: LAB-SQL-01\\TEST01\n"
     ]
    }
   ],
   "source": [
    "# Define the connection string\n",
    "connection_string = (\n",
    "    \"DRIVER={ODBC Driver 17 for SQL Server};\"\n",
    "    \"SERVER=10.213.254.250\\\\TEST01;\"\n",
    "    \"DATABASE=ITST_Test_1;\"\n",
    "    \"UID=sa;\"\n",
    "    f\"PWD={db_password}\"\n",
    ")\n",
    "\n",
    "# Establish the connection\n",
    "connection = pyodbc.connect(connection_string)\n",
    "\n",
    "# Verify the connection by printing the server name\n",
    "cursor = connection.cursor()\n",
    "cursor.execute(\"SELECT @@SERVERNAME\")\n",
    "server_name = cursor.fetchone()[0]\n",
    "print(f\"Connected to server: {server_name}\")\n"
   ]
  },
  {
   "cell_type": "code",
   "execution_count": 50,
   "metadata": {},
   "outputs": [],
   "source": [
    "# cursor.close()\n",
    "# connection.close()"
   ]
  },
  {
   "cell_type": "code",
   "execution_count": 52,
   "metadata": {},
   "outputs": [],
   "source": [
    "# Execute a Simple Query\n",
    "def run_query(query):    \n",
    "    # Execute a simple SQL query\n",
    "    cursor.execute(query)\n",
    "    \n",
    "    # Fetch the results\n",
    "    results = cursor.fetchall()\n",
    "    \n",
    "    # Convert the results to a pandas DataFrame\n",
    "    df = pd.DataFrame.from_records(results, columns=[column[0] for column in cursor.description])\n",
    "    \n",
    "    return df"
   ]
  },
  {
   "cell_type": "code",
   "execution_count": 48,
   "metadata": {},
   "outputs": [],
   "source": [
    "run_query(\"SELECT TOP 10 * FROM INFORMATION_SCHEMA.TABLES\")"
   ]
  },
  {
   "cell_type": "markdown",
   "metadata": {},
   "source": [
    "# Check long qureis\n"
   ]
  },
  {
   "cell_type": "code",
   "execution_count": null,
   "metadata": {},
   "outputs": [],
   "source": []
  }
 ],
 "metadata": {
  "kernelspec": {
   "display_name": "Python 3 (ipykernel)",
   "language": "python",
   "name": "python3"
  },
  "language_info": {
   "codemirror_mode": {
    "name": "ipython",
    "version": 3
   },
   "file_extension": ".py",
   "mimetype": "text/x-python",
   "name": "python",
   "nbconvert_exporter": "python",
   "pygments_lexer": "ipython3",
   "version": "3.13.2"
  }
 },
 "nbformat": 4,
 "nbformat_minor": 4
}
